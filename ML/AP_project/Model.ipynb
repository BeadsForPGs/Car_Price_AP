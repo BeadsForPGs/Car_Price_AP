{
 "cells": [
  {
   "cell_type": "code",
   "execution_count": 23,
   "outputs": [],
   "source": [
    "#i want to train Bayesian neural network to predict the value of the cars, so I have a lot of data which is categorial and numerical, I want make model is up-to-date so after training I want to save the model and use it in the future, so I want to know how to save the model and load it again to use it in the future and I will give extra new data before using it to predict the value of the car."
   ],
   "metadata": {
    "collapsed": false,
    "pycharm": {
     "name": "#%%\n"
    }
   }
  },
  {
   "cell_type": "code",
   "execution_count": 24,
   "outputs": [
    {
     "data": {
      "text/plain": "           brand                model  year    price      city  \\\n0  Mercedes-Benz                E 230  1991  1500000    Алматы   \n1  Mercedes-Benz                E 230  1991  1500000    Алматы   \n2     Volkswagen               Passat  1992  1800000   Шымкент   \n3     Volkswagen               Passat  1992  1800000   Шымкент   \n4     ВАЗ (Lada)  Priora 2170 (седан)  2010  2800000  Костанай   \n\n                    generation  body_type engine_volume transmission  \\\n0  1987 - 1993 W124 рестайлинг      седан  2.3 (бензин)      автомат   \n1  1987 - 1993 W124 рестайлинг      седан  2.3 (бензин)      автомат   \n2               1988 - 1993 B3  универсал  1.8 (бензин)     механика   \n3               1988 - 1993 B3  универсал  1.8 (бензин)     механика   \n4      2007 - 2015 1 поколение      седан  1.6 (бензин)     механика   \n\n             drive steering_wheel  custom_cleared     mileage  \\\n0    задний привод          слева            True         NaN   \n1    задний привод          слева            True         NaN   \n2  передний привод          слева            True  245 555 км   \n3  передний привод          слева            True  245 555 км   \n4  передний привод          слева            True  189 000 км   \n\n              color                VIN Наличие  \n0               NaN                NaN     NaN  \n1               NaN                NaN     NaN  \n2    серый металлик  11122233*44****66     NaN  \n3    серый металлик  11122233*44****66     NaN  \n4  зеленый металлик                NaN     NaN  ",
      "text/html": "<div>\n<style scoped>\n    .dataframe tbody tr th:only-of-type {\n        vertical-align: middle;\n    }\n\n    .dataframe tbody tr th {\n        vertical-align: top;\n    }\n\n    .dataframe thead th {\n        text-align: right;\n    }\n</style>\n<table border=\"1\" class=\"dataframe\">\n  <thead>\n    <tr style=\"text-align: right;\">\n      <th></th>\n      <th>brand</th>\n      <th>model</th>\n      <th>year</th>\n      <th>price</th>\n      <th>city</th>\n      <th>generation</th>\n      <th>body_type</th>\n      <th>engine_volume</th>\n      <th>transmission</th>\n      <th>drive</th>\n      <th>steering_wheel</th>\n      <th>custom_cleared</th>\n      <th>mileage</th>\n      <th>color</th>\n      <th>VIN</th>\n      <th>Наличие</th>\n    </tr>\n  </thead>\n  <tbody>\n    <tr>\n      <th>0</th>\n      <td>Mercedes-Benz</td>\n      <td>E 230</td>\n      <td>1991</td>\n      <td>1500000</td>\n      <td>Алматы</td>\n      <td>1987 - 1993 W124 рестайлинг</td>\n      <td>седан</td>\n      <td>2.3 (бензин)</td>\n      <td>автомат</td>\n      <td>задний привод</td>\n      <td>слева</td>\n      <td>True</td>\n      <td>NaN</td>\n      <td>NaN</td>\n      <td>NaN</td>\n      <td>NaN</td>\n    </tr>\n    <tr>\n      <th>1</th>\n      <td>Mercedes-Benz</td>\n      <td>E 230</td>\n      <td>1991</td>\n      <td>1500000</td>\n      <td>Алматы</td>\n      <td>1987 - 1993 W124 рестайлинг</td>\n      <td>седан</td>\n      <td>2.3 (бензин)</td>\n      <td>автомат</td>\n      <td>задний привод</td>\n      <td>слева</td>\n      <td>True</td>\n      <td>NaN</td>\n      <td>NaN</td>\n      <td>NaN</td>\n      <td>NaN</td>\n    </tr>\n    <tr>\n      <th>2</th>\n      <td>Volkswagen</td>\n      <td>Passat</td>\n      <td>1992</td>\n      <td>1800000</td>\n      <td>Шымкент</td>\n      <td>1988 - 1993 B3</td>\n      <td>универсал</td>\n      <td>1.8 (бензин)</td>\n      <td>механика</td>\n      <td>передний привод</td>\n      <td>слева</td>\n      <td>True</td>\n      <td>245 555 км</td>\n      <td>серый металлик</td>\n      <td>11122233*44****66</td>\n      <td>NaN</td>\n    </tr>\n    <tr>\n      <th>3</th>\n      <td>Volkswagen</td>\n      <td>Passat</td>\n      <td>1992</td>\n      <td>1800000</td>\n      <td>Шымкент</td>\n      <td>1988 - 1993 B3</td>\n      <td>универсал</td>\n      <td>1.8 (бензин)</td>\n      <td>механика</td>\n      <td>передний привод</td>\n      <td>слева</td>\n      <td>True</td>\n      <td>245 555 км</td>\n      <td>серый металлик</td>\n      <td>11122233*44****66</td>\n      <td>NaN</td>\n    </tr>\n    <tr>\n      <th>4</th>\n      <td>ВАЗ (Lada)</td>\n      <td>Priora 2170 (седан)</td>\n      <td>2010</td>\n      <td>2800000</td>\n      <td>Костанай</td>\n      <td>2007 - 2015 1 поколение</td>\n      <td>седан</td>\n      <td>1.6 (бензин)</td>\n      <td>механика</td>\n      <td>передний привод</td>\n      <td>слева</td>\n      <td>True</td>\n      <td>189 000 км</td>\n      <td>зеленый металлик</td>\n      <td>NaN</td>\n      <td>NaN</td>\n    </tr>\n  </tbody>\n</table>\n</div>"
     },
     "execution_count": 24,
     "metadata": {},
     "output_type": "execute_result"
    }
   ],
   "source": [
    "#download the data from the mongodb database\n",
    "import pymongo\n",
    "import pandas as pd\n",
    "import numpy as np\n",
    "myclient = pymongo.MongoClient(\"mongodb://localhost:27017/\")\n",
    "mydb = myclient[\"endterm\"]\n",
    "mycol = mydb[\"cars\"]\n",
    "mylist = list(mycol.find())\n",
    "df = pd.DataFrame(mylist)\n",
    "df = df.drop(columns=['_id'])\n",
    "df.head()"
   ],
   "metadata": {
    "collapsed": false,
    "pycharm": {
     "name": "#%%\n"
    }
   }
  },
  {
   "cell_type": "code",
   "execution_count": 25,
   "outputs": [
    {
     "data": {
      "text/plain": "           brand                model  year    price      city  \\\n0  Mercedes-Benz                E 230  1991  1500000    Алматы   \n1  Mercedes-Benz                E 230  1991  1500000    Алматы   \n2     Volkswagen               Passat  1992  1800000   Шымкент   \n3     Volkswagen               Passat  1992  1800000   Шымкент   \n4     ВАЗ (Lada)  Priora 2170 (седан)  2010  2800000  Костанай   \n\n                    generation  body_type engine_volume transmission  \\\n0  1987 - 1993 W124 рестайлинг      седан  2.3 (бензин)      автомат   \n1  1987 - 1993 W124 рестайлинг      седан  2.3 (бензин)      автомат   \n2               1988 - 1993 B3  универсал  1.8 (бензин)     механика   \n3               1988 - 1993 B3  универсал  1.8 (бензин)     механика   \n4      2007 - 2015 1 поколение      седан  1.6 (бензин)     механика   \n\n             drive steering_wheel  custom_cleared     mileage  \\\n0    задний привод          слева            True      320000   \n1    задний привод          слева            True      320000   \n2  передний привод          слева            True  245 555 км   \n3  передний привод          слева            True  245 555 км   \n4  передний привод          слева            True  189 000 км   \n\n              color                VIN  Наличие  \n0         не указан          не указан     True  \n1         не указан          не указан     True  \n2    серый металлик  11122233*44****66     True  \n3    серый металлик  11122233*44****66     True  \n4  зеленый металлик          не указан     True  ",
      "text/html": "<div>\n<style scoped>\n    .dataframe tbody tr th:only-of-type {\n        vertical-align: middle;\n    }\n\n    .dataframe tbody tr th {\n        vertical-align: top;\n    }\n\n    .dataframe thead th {\n        text-align: right;\n    }\n</style>\n<table border=\"1\" class=\"dataframe\">\n  <thead>\n    <tr style=\"text-align: right;\">\n      <th></th>\n      <th>brand</th>\n      <th>model</th>\n      <th>year</th>\n      <th>price</th>\n      <th>city</th>\n      <th>generation</th>\n      <th>body_type</th>\n      <th>engine_volume</th>\n      <th>transmission</th>\n      <th>drive</th>\n      <th>steering_wheel</th>\n      <th>custom_cleared</th>\n      <th>mileage</th>\n      <th>color</th>\n      <th>VIN</th>\n      <th>Наличие</th>\n    </tr>\n  </thead>\n  <tbody>\n    <tr>\n      <th>0</th>\n      <td>Mercedes-Benz</td>\n      <td>E 230</td>\n      <td>1991</td>\n      <td>1500000</td>\n      <td>Алматы</td>\n      <td>1987 - 1993 W124 рестайлинг</td>\n      <td>седан</td>\n      <td>2.3 (бензин)</td>\n      <td>автомат</td>\n      <td>задний привод</td>\n      <td>слева</td>\n      <td>True</td>\n      <td>320000</td>\n      <td>не указан</td>\n      <td>не указан</td>\n      <td>True</td>\n    </tr>\n    <tr>\n      <th>1</th>\n      <td>Mercedes-Benz</td>\n      <td>E 230</td>\n      <td>1991</td>\n      <td>1500000</td>\n      <td>Алматы</td>\n      <td>1987 - 1993 W124 рестайлинг</td>\n      <td>седан</td>\n      <td>2.3 (бензин)</td>\n      <td>автомат</td>\n      <td>задний привод</td>\n      <td>слева</td>\n      <td>True</td>\n      <td>320000</td>\n      <td>не указан</td>\n      <td>не указан</td>\n      <td>True</td>\n    </tr>\n    <tr>\n      <th>2</th>\n      <td>Volkswagen</td>\n      <td>Passat</td>\n      <td>1992</td>\n      <td>1800000</td>\n      <td>Шымкент</td>\n      <td>1988 - 1993 B3</td>\n      <td>универсал</td>\n      <td>1.8 (бензин)</td>\n      <td>механика</td>\n      <td>передний привод</td>\n      <td>слева</td>\n      <td>True</td>\n      <td>245 555 км</td>\n      <td>серый металлик</td>\n      <td>11122233*44****66</td>\n      <td>True</td>\n    </tr>\n    <tr>\n      <th>3</th>\n      <td>Volkswagen</td>\n      <td>Passat</td>\n      <td>1992</td>\n      <td>1800000</td>\n      <td>Шымкент</td>\n      <td>1988 - 1993 B3</td>\n      <td>универсал</td>\n      <td>1.8 (бензин)</td>\n      <td>механика</td>\n      <td>передний привод</td>\n      <td>слева</td>\n      <td>True</td>\n      <td>245 555 км</td>\n      <td>серый металлик</td>\n      <td>11122233*44****66</td>\n      <td>True</td>\n    </tr>\n    <tr>\n      <th>4</th>\n      <td>ВАЗ (Lada)</td>\n      <td>Priora 2170 (седан)</td>\n      <td>2010</td>\n      <td>2800000</td>\n      <td>Костанай</td>\n      <td>2007 - 2015 1 поколение</td>\n      <td>седан</td>\n      <td>1.6 (бензин)</td>\n      <td>механика</td>\n      <td>передний привод</td>\n      <td>слева</td>\n      <td>True</td>\n      <td>189 000 км</td>\n      <td>зеленый металлик</td>\n      <td>не указан</td>\n      <td>True</td>\n    </tr>\n  </tbody>\n</table>\n</div>"
     },
     "execution_count": 25,
     "metadata": {},
     "output_type": "execute_result"
    }
   ],
   "source": [
    "#I want to bayesian neural network to predict the value of the cars, so I have a lot of data which is categorial and numerical\n",
    "#if mileage is nan I want to replace it with the 10000*(2023-year)\n",
    "df['mileage'] = df['mileage'].fillna(10000*(2023-df['year']))\n",
    "#if color is nan I want to replace it with the \"не указан\"\n",
    "df['color'] = df['color'].fillna(\"не указан\")\n",
    "#if VIN is nan I want to replace it with the \"не указан\"\n",
    "df['VIN'] = df['VIN'].fillna(\"не указан\")\n",
    "#if 'Наличие' is nan I want to replace it with the True, else False\n",
    "df['Наличие'] = df['Наличие'].fillna(True)\n",
    "df['Наличие'] = df['Наличие'].replace('На заказ', False)\n",
    "df.head()"
   ],
   "metadata": {
    "collapsed": false,
    "pycharm": {
     "name": "#%%\n"
    }
   }
  },
  {
   "cell_type": "code",
   "execution_count": 26,
   "outputs": [],
   "source": [
    "#converting categorical data to numerical data, we save all key->values to use them later\n",
    "#make dictionary for every unique color\n",
    "import json\n",
    "\n",
    "def make_dict(arr):\n",
    "    dic = {}\n",
    "    for i in range(len(arr)):\n",
    "        dic[arr[i]] = i\n",
    "    return dic\n",
    "def save_dict(arr, name):\n",
    "    dic = make_dict(arr)\n",
    "    name1='dictionaries/'+name+'.json'\n",
    "    with open(name1, 'w', encoding=\"utf-8\") as fp:\n",
    "        json.dump(dic, fp)\n",
    "# make list of all categorical columns\n",
    "cat_cols = ['color', 'model', 'brand', 'transmission', 'generation','body_type','steering_wheel', 'city','drive']\n",
    "for i in cat_cols:\n",
    "    save_dict(df[i].unique(), i)\n"
   ],
   "metadata": {
    "collapsed": false,
    "pycharm": {
     "name": "#%%\n"
    }
   }
  },
  {
   "cell_type": "code",
   "execution_count": 27,
   "outputs": [],
   "source": [
    "#if engine_volume has \"газ-бензин\" make isPetrol=False, else isPetrol=True\n",
    "isPetrol = []\n",
    "for i in range(len(df)):\n",
    "    if df.engine_volume[i] == 'газ-бензин':\n",
    "        isPetrol.append(False)\n",
    "    else:\n",
    "        isPetrol.append(True)\n",
    "df['isPetrol'] = isPetrol\n",
    "#delete all signs in engine_volume except numbers\n",
    "import re\n",
    "engine_volume = []\n",
    "for i in range(len(df)):\n",
    "    a = df.engine_volume[i]\n",
    "    engine_volume.append(re.sub('[^\\d\\.]', '', a))\n",
    "\n",
    "df['engine_volume'] = engine_volume"
   ],
   "metadata": {
    "collapsed": false,
    "pycharm": {
     "name": "#%%\n"
    }
   }
  },
  {
   "cell_type": "code",
   "execution_count": 28,
   "outputs": [
    {
     "data": {
      "text/plain": "           brand                model  year    price      city  \\\n0  Mercedes-Benz                E 230  1991  1500000    Алматы   \n1  Mercedes-Benz                E 230  1991  1500000    Алматы   \n2     Volkswagen               Passat  1992  1800000   Шымкент   \n3     Volkswagen               Passat  1992  1800000   Шымкент   \n4     ВАЗ (Lada)  Priora 2170 (седан)  2010  2800000  Костанай   \n\n                    generation  body_type engine_volume transmission  \\\n0  1987 - 1993 W124 рестайлинг      седан           2.3      автомат   \n1  1987 - 1993 W124 рестайлинг      седан           2.3      автомат   \n2               1988 - 1993 B3  универсал           1.8     механика   \n3               1988 - 1993 B3  универсал           1.8     механика   \n4      2007 - 2015 1 поколение      седан           1.6     механика   \n\n             drive steering_wheel  custom_cleared  mileage             color  \\\n0    задний привод          слева            True   320000         не указан   \n1    задний привод          слева            True   320000         не указан   \n2  передний привод          слева            True   245555    серый металлик   \n3  передний привод          слева            True   245555    серый металлик   \n4  передний привод          слева            True   189000  зеленый металлик   \n\n                 VIN  Наличие  isPetrol  \n0          не указан     True      True  \n1          не указан     True      True  \n2  11122233*44****66     True      True  \n3  11122233*44****66     True      True  \n4          не указан     True      True  ",
      "text/html": "<div>\n<style scoped>\n    .dataframe tbody tr th:only-of-type {\n        vertical-align: middle;\n    }\n\n    .dataframe tbody tr th {\n        vertical-align: top;\n    }\n\n    .dataframe thead th {\n        text-align: right;\n    }\n</style>\n<table border=\"1\" class=\"dataframe\">\n  <thead>\n    <tr style=\"text-align: right;\">\n      <th></th>\n      <th>brand</th>\n      <th>model</th>\n      <th>year</th>\n      <th>price</th>\n      <th>city</th>\n      <th>generation</th>\n      <th>body_type</th>\n      <th>engine_volume</th>\n      <th>transmission</th>\n      <th>drive</th>\n      <th>steering_wheel</th>\n      <th>custom_cleared</th>\n      <th>mileage</th>\n      <th>color</th>\n      <th>VIN</th>\n      <th>Наличие</th>\n      <th>isPetrol</th>\n    </tr>\n  </thead>\n  <tbody>\n    <tr>\n      <th>0</th>\n      <td>Mercedes-Benz</td>\n      <td>E 230</td>\n      <td>1991</td>\n      <td>1500000</td>\n      <td>Алматы</td>\n      <td>1987 - 1993 W124 рестайлинг</td>\n      <td>седан</td>\n      <td>2.3</td>\n      <td>автомат</td>\n      <td>задний привод</td>\n      <td>слева</td>\n      <td>True</td>\n      <td>320000</td>\n      <td>не указан</td>\n      <td>не указан</td>\n      <td>True</td>\n      <td>True</td>\n    </tr>\n    <tr>\n      <th>1</th>\n      <td>Mercedes-Benz</td>\n      <td>E 230</td>\n      <td>1991</td>\n      <td>1500000</td>\n      <td>Алматы</td>\n      <td>1987 - 1993 W124 рестайлинг</td>\n      <td>седан</td>\n      <td>2.3</td>\n      <td>автомат</td>\n      <td>задний привод</td>\n      <td>слева</td>\n      <td>True</td>\n      <td>320000</td>\n      <td>не указан</td>\n      <td>не указан</td>\n      <td>True</td>\n      <td>True</td>\n    </tr>\n    <tr>\n      <th>2</th>\n      <td>Volkswagen</td>\n      <td>Passat</td>\n      <td>1992</td>\n      <td>1800000</td>\n      <td>Шымкент</td>\n      <td>1988 - 1993 B3</td>\n      <td>универсал</td>\n      <td>1.8</td>\n      <td>механика</td>\n      <td>передний привод</td>\n      <td>слева</td>\n      <td>True</td>\n      <td>245555</td>\n      <td>серый металлик</td>\n      <td>11122233*44****66</td>\n      <td>True</td>\n      <td>True</td>\n    </tr>\n    <tr>\n      <th>3</th>\n      <td>Volkswagen</td>\n      <td>Passat</td>\n      <td>1992</td>\n      <td>1800000</td>\n      <td>Шымкент</td>\n      <td>1988 - 1993 B3</td>\n      <td>универсал</td>\n      <td>1.8</td>\n      <td>механика</td>\n      <td>передний привод</td>\n      <td>слева</td>\n      <td>True</td>\n      <td>245555</td>\n      <td>серый металлик</td>\n      <td>11122233*44****66</td>\n      <td>True</td>\n      <td>True</td>\n    </tr>\n    <tr>\n      <th>4</th>\n      <td>ВАЗ (Lada)</td>\n      <td>Priora 2170 (седан)</td>\n      <td>2010</td>\n      <td>2800000</td>\n      <td>Костанай</td>\n      <td>2007 - 2015 1 поколение</td>\n      <td>седан</td>\n      <td>1.6</td>\n      <td>механика</td>\n      <td>передний привод</td>\n      <td>слева</td>\n      <td>True</td>\n      <td>189000</td>\n      <td>зеленый металлик</td>\n      <td>не указан</td>\n      <td>True</td>\n      <td>True</td>\n    </tr>\n  </tbody>\n</table>\n</div>"
     },
     "execution_count": 28,
     "metadata": {},
     "output_type": "execute_result"
    }
   ],
   "source": [
    "mileage = []\n",
    "for i in range(len(df)):\n",
    "    a = str(df.mileage[i])\n",
    "    mileage.append(re.sub('[^\\d\\.]', '', a))\n",
    "\n",
    "mileage= [int(i) for i in mileage]\n",
    "df['mileage'] = mileage\n",
    "df.head()"
   ],
   "metadata": {
    "collapsed": false,
    "pycharm": {
     "name": "#%%\n"
    }
   }
  },
  {
   "cell_type": "code",
   "execution_count": 29,
   "outputs": [],
   "source": [
    "#convert all categorical data to numerical data\n",
    "import json\n",
    "def load_dict(name):\n",
    "    name1='dictionaries/'+name+'.json'\n",
    "    with open(name1, 'r', encoding=\"utf-8\") as fp:\n",
    "        dic = json.load(fp)\n",
    "    return dic\n",
    "#change all categorical data to numerical\n",
    "for i in cat_cols:\n",
    "    dic = load_dict(i)\n",
    "    df[i] = df[i].map(dic)"
   ],
   "metadata": {
    "collapsed": false,
    "pycharm": {
     "name": "#%%\n"
    }
   }
  },
  {
   "cell_type": "code",
   "execution_count": 30,
   "outputs": [
    {
     "data": {
      "text/plain": "   brand  model  year    price  city  generation  body_type  engine_volume  \\\n0      0      0  1991  1500000     0           0          0            2.3   \n1      0      0  1991  1500000     0           0          0            2.3   \n2      1      1  1992  1800000     1           1          1            1.8   \n3      1      1  1992  1800000     1           1          1            1.8   \n4      2      2  2010  2800000     2           2          0            1.6   \n\n   transmission  drive  steering_wheel  custom_cleared  mileage  color  \\\n0             0      0               0            True   320000      0   \n1             0      0               0            True   320000      0   \n2             1      1               0            True   245555      1   \n3             1      1               0            True   245555      1   \n4             1      1               0            True   189000      2   \n\n   Наличие  isPetrol  \n0     True      True  \n1     True      True  \n2     True      True  \n3     True      True  \n4     True      True  ",
      "text/html": "<div>\n<style scoped>\n    .dataframe tbody tr th:only-of-type {\n        vertical-align: middle;\n    }\n\n    .dataframe tbody tr th {\n        vertical-align: top;\n    }\n\n    .dataframe thead th {\n        text-align: right;\n    }\n</style>\n<table border=\"1\" class=\"dataframe\">\n  <thead>\n    <tr style=\"text-align: right;\">\n      <th></th>\n      <th>brand</th>\n      <th>model</th>\n      <th>year</th>\n      <th>price</th>\n      <th>city</th>\n      <th>generation</th>\n      <th>body_type</th>\n      <th>engine_volume</th>\n      <th>transmission</th>\n      <th>drive</th>\n      <th>steering_wheel</th>\n      <th>custom_cleared</th>\n      <th>mileage</th>\n      <th>color</th>\n      <th>Наличие</th>\n      <th>isPetrol</th>\n    </tr>\n  </thead>\n  <tbody>\n    <tr>\n      <th>0</th>\n      <td>0</td>\n      <td>0</td>\n      <td>1991</td>\n      <td>1500000</td>\n      <td>0</td>\n      <td>0</td>\n      <td>0</td>\n      <td>2.3</td>\n      <td>0</td>\n      <td>0</td>\n      <td>0</td>\n      <td>True</td>\n      <td>320000</td>\n      <td>0</td>\n      <td>True</td>\n      <td>True</td>\n    </tr>\n    <tr>\n      <th>1</th>\n      <td>0</td>\n      <td>0</td>\n      <td>1991</td>\n      <td>1500000</td>\n      <td>0</td>\n      <td>0</td>\n      <td>0</td>\n      <td>2.3</td>\n      <td>0</td>\n      <td>0</td>\n      <td>0</td>\n      <td>True</td>\n      <td>320000</td>\n      <td>0</td>\n      <td>True</td>\n      <td>True</td>\n    </tr>\n    <tr>\n      <th>2</th>\n      <td>1</td>\n      <td>1</td>\n      <td>1992</td>\n      <td>1800000</td>\n      <td>1</td>\n      <td>1</td>\n      <td>1</td>\n      <td>1.8</td>\n      <td>1</td>\n      <td>1</td>\n      <td>0</td>\n      <td>True</td>\n      <td>245555</td>\n      <td>1</td>\n      <td>True</td>\n      <td>True</td>\n    </tr>\n    <tr>\n      <th>3</th>\n      <td>1</td>\n      <td>1</td>\n      <td>1992</td>\n      <td>1800000</td>\n      <td>1</td>\n      <td>1</td>\n      <td>1</td>\n      <td>1.8</td>\n      <td>1</td>\n      <td>1</td>\n      <td>0</td>\n      <td>True</td>\n      <td>245555</td>\n      <td>1</td>\n      <td>True</td>\n      <td>True</td>\n    </tr>\n    <tr>\n      <th>4</th>\n      <td>2</td>\n      <td>2</td>\n      <td>2010</td>\n      <td>2800000</td>\n      <td>2</td>\n      <td>2</td>\n      <td>0</td>\n      <td>1.6</td>\n      <td>1</td>\n      <td>1</td>\n      <td>0</td>\n      <td>True</td>\n      <td>189000</td>\n      <td>2</td>\n      <td>True</td>\n      <td>True</td>\n    </tr>\n  </tbody>\n</table>\n</div>"
     },
     "execution_count": 30,
     "metadata": {},
     "output_type": "execute_result"
    }
   ],
   "source": [
    "df=df.drop(columns=['VIN'])\n",
    "df[\"engine_volume\"] = df[\"engine_volume\"].astype(float)\n",
    "df.head()\n"
   ],
   "metadata": {
    "collapsed": false,
    "pycharm": {
     "name": "#%%\n"
    }
   }
  },
  {
   "cell_type": "code",
   "execution_count": 31,
   "outputs": [],
   "source": [
    "#split the data to train and test\n",
    "from sklearn.model_selection import train_test_split\n",
    "X = df.drop(columns=['price'])\n",
    "y = df['price']\n",
    "X_train, X_test, y_train, y_test = train_test_split(X, y, test_size=0.2, random_state=42)\n"
   ],
   "metadata": {
    "collapsed": false,
    "pycharm": {
     "name": "#%%\n"
    }
   }
  },
  {
   "cell_type": "code",
   "execution_count": 32,
   "outputs": [
    {
     "name": "stdout",
     "output_type": "stream",
     "text": [
      "RMSE: 3913673.116567\n"
     ]
    }
   ],
   "source": [
    "#make bayesian neural network model and train it with the train data and plot the loss and accuracy and then save the model to use it in the future\n",
    "import xgboost as xgb\n",
    "from sklearn.model_selection import train_test_split\n",
    "from sklearn.metrics import mean_squared_error\n",
    "xg_reg = xgb.XGBRegressor(objective=\"reg:squarederror\", colsample_bytree=0.3, learning_rate=0.1,\n",
    "                          max_depth=5, alpha=10, n_estimators=100)\n",
    "xg_reg.fit(X_train, y_train)\n",
    "\n",
    "# Make predictions on the testing set\n",
    "y_pred = xg_reg.predict(X_test)\n",
    "\n",
    "# Evaluate model performance\n",
    "rmse = np.sqrt(mean_squared_error(y_test, y_pred))\n",
    "print(\"RMSE: %f\" % (rmse))"
   ],
   "metadata": {
    "collapsed": false,
    "pycharm": {
     "name": "#%%\n"
    }
   }
  },
  {
   "cell_type": "code",
   "execution_count": 33,
   "outputs": [
    {
     "data": {
      "text/plain": "0.9574911785090534"
     },
     "execution_count": 33,
     "metadata": {},
     "output_type": "execute_result"
    }
   ],
   "source": [
    "#I want to ouput the R2 score of the model\n",
    "from sklearn.metrics import r2_score\n",
    "r2_score(y_test, y_pred)"
   ],
   "metadata": {
    "collapsed": false,
    "pycharm": {
     "name": "#%%\n"
    }
   }
  },
  {
   "cell_type": "code",
   "execution_count": 34,
   "outputs": [
    {
     "data": {
      "text/plain": "1756800.4510135136"
     },
     "execution_count": 34,
     "metadata": {},
     "output_type": "execute_result"
    }
   ],
   "source": [
    "#I want to output the mean absolute error of the model\n",
    "from sklearn.metrics import mean_absolute_error\n",
    "mean_absolute_error(y_test, y_pred)"
   ],
   "metadata": {
    "collapsed": false,
    "pycharm": {
     "name": "#%%\n"
    }
   }
  },
  {
   "cell_type": "code",
   "execution_count": 35,
   "outputs": [
    {
     "data": {
      "text/plain": "15316837263340.656"
     },
     "execution_count": 35,
     "metadata": {},
     "output_type": "execute_result"
    }
   ],
   "source": [
    "#I want to output the mean squared error of the model\n",
    "from sklearn.metrics import mean_squared_error\n",
    "mean_squared_error(y_test, y_pred)"
   ],
   "metadata": {
    "collapsed": false,
    "pycharm": {
     "name": "#%%\n"
    }
   }
  },
  {
   "cell_type": "code",
   "execution_count": 36,
   "outputs": [
    {
     "data": {
      "text/plain": "776056.0"
     },
     "execution_count": 36,
     "metadata": {},
     "output_type": "execute_result"
    }
   ],
   "source": [
    "#I want to output the median absolute error of the model\n",
    "from sklearn.metrics import median_absolute_error\n",
    "median_absolute_error(y_test, y_pred)"
   ],
   "metadata": {
    "collapsed": false,
    "pycharm": {
     "name": "#%%\n"
    }
   }
  },
  {
   "cell_type": "code",
   "execution_count": 37,
   "outputs": [
    {
     "data": {
      "text/plain": "0.9601184398534589"
     },
     "execution_count": 37,
     "metadata": {},
     "output_type": "execute_result"
    }
   ],
   "source": [
    "#I want to output the explained variance score of the model\n",
    "from sklearn.metrics import explained_variance_score\n",
    "explained_variance_score(y_test, y_pred)"
   ],
   "metadata": {
    "collapsed": false,
    "pycharm": {
     "name": "#%%\n"
    }
   }
  },
  {
   "cell_type": "code",
   "execution_count": 38,
   "outputs": [
    {
     "data": {
      "text/plain": "18476560.0"
     },
     "execution_count": 38,
     "metadata": {},
     "output_type": "execute_result"
    }
   ],
   "source": [
    "#I want to output the max error of the model\n",
    "from sklearn.metrics import max_error\n",
    "max_error(y_test, y_pred)"
   ],
   "metadata": {
    "collapsed": false,
    "pycharm": {
     "name": "#%%\n"
    }
   }
  },
  {
   "cell_type": "code",
   "execution_count": 39,
   "outputs": [
    {
     "data": {
      "text/plain": "['xg_reg.pkl']"
     },
     "execution_count": 39,
     "metadata": {},
     "output_type": "execute_result"
    }
   ],
   "source": [
    "#save the model\n",
    "import joblib\n",
    "joblib.dump(xg_reg, 'xg_reg.pkl')"
   ],
   "metadata": {
    "collapsed": false,
    "pycharm": {
     "name": "#%%\n"
    }
   }
  },
  {
   "cell_type": "code",
   "execution_count": 40,
   "outputs": [],
   "source": [
    "#load the model\n",
    "loaded_model = joblib.load('xg_reg.pkl')"
   ],
   "metadata": {
    "collapsed": false,
    "pycharm": {
     "name": "#%%\n"
    }
   }
  },
  {
   "cell_type": "code",
   "execution_count": 49,
   "outputs": [
    {
     "name": "stdout",
     "output_type": "stream",
     "text": [
      "70\n"
     ]
    }
   ],
   "source": [
    "#I want to take random value from X_test and predict the price of the car\n",
    "import random\n",
    "random.seed(35)\n",
    "a = random.randint(0, len(X_test))\n",
    "print(a)"
   ],
   "metadata": {
    "collapsed": false,
    "pycharm": {
     "name": "#%%\n"
    }
   }
  },
  {
   "cell_type": "code",
   "execution_count": 40,
   "outputs": [],
   "source": [],
   "metadata": {
    "collapsed": false,
    "pycharm": {
     "name": "#%%model.predict(X_test.iloc[a].values.reshape(1, -1))\n"
    }
   }
  },
  {
   "cell_type": "code",
   "execution_count": 50,
   "outputs": [
    {
     "data": {
      "text/plain": "array([5716669.5], dtype=float32)"
     },
     "execution_count": 50,
     "metadata": {},
     "output_type": "execute_result"
    }
   ],
   "source": [
    "loaded_model.predict(X_test.iloc[a].values.reshape(1, -1))"
   ],
   "metadata": {
    "collapsed": false,
    "pycharm": {
     "name": "#%%\n"
    }
   }
  },
  {
   "cell_type": "code",
   "execution_count": 51,
   "outputs": [
    {
     "data": {
      "text/plain": "4800000"
     },
     "execution_count": 51,
     "metadata": {},
     "output_type": "execute_result"
    }
   ],
   "source": [
    "y_test.iloc[a]"
   ],
   "metadata": {
    "collapsed": false,
    "pycharm": {
     "name": "#%%\n"
    }
   }
  },
  {
   "cell_type": "code",
   "execution_count": null,
   "outputs": [],
   "source": [],
   "metadata": {
    "collapsed": false,
    "pycharm": {
     "name": "#%%\n"
    }
   }
  }
 ],
 "metadata": {
  "kernelspec": {
   "display_name": "Python 3",
   "language": "python",
   "name": "python3"
  },
  "language_info": {
   "codemirror_mode": {
    "name": "ipython",
    "version": 2
   },
   "file_extension": ".py",
   "mimetype": "text/x-python",
   "name": "python",
   "nbconvert_exporter": "python",
   "pygments_lexer": "ipython2",
   "version": "2.7.6"
  }
 },
 "nbformat": 4,
 "nbformat_minor": 0
}