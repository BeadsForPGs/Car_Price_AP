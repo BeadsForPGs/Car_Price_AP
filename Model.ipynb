{
 "cells": [
  {
   "cell_type": "code",
   "execution_count": 2,
   "outputs": [],
   "source": [
    "#i want to train Bayesian neural network to predict the value of the cars, so I have a lot of data which is categorial and numerical, I want make model is up-to-date so after training I want to save the model and use it in the future, so I want to know how to save the model and load it again to use it in the future and I will give extra new data before using it to predict the value of the car."
   ],
   "metadata": {
    "collapsed": false,
    "pycharm": {
     "name": "#%%\n"
    }
   }
  },
  {
   "cell_type": "code",
   "execution_count": 3,
   "outputs": [
    {
     "data": {
      "text/plain": "           brand                model  year     price      city  \\\n0  Mercedes-Benz                E 230  1991   1500000    Алматы   \n1     Volkswagen               Passat  1992   1800000   Шымкент   \n2     ВАЗ (Lada)  Priora 2170 (седан)  2010   2800000  Костанай   \n3         Subaru             Forester  1998   3400000    Алматы   \n4        Hyundai             Grandeur  2021  23000000   Шымкент   \n\n                                generation  body_type engine_volume  \\\n0              1987 - 1993 W124 рестайлинг      седан  2.3 (бензин)   \n1                           1988 - 1993 B3  универсал  1.8 (бензин)   \n2                  2007 - 2015 1 поколение      седан  1.6 (бензин)   \n3             1997 - 2000 1 поколение (SF)  кроссовер    2 (бензин)   \n4  2019 - 2022 6 поколение рестайлинг (IG)      седан  3.3 (бензин)   \n\n  transmission            drive steering_wheel  custom_cleared     mileage  \\\n0      автомат    задний привод          слева            True         NaN   \n1     механика  передний привод          слева            True  245 555 км   \n2     механика  передний привод          слева            True  189 000 км   \n3      автомат    полный привод         справа            True         NaN   \n4      автомат  передний привод          слева            True    3 500 км   \n\n              color                VIN Наличие Двигатель  \n0               NaN                NaN     NaN       NaN  \n1    серый металлик  11122233*44****66     NaN       NaN  \n2  зеленый металлик                NaN     NaN       NaN  \n3               NaN                NaN     NaN       NaN  \n4               NaN                NaN     NaN       NaN  ",
      "text/html": "<div>\n<style scoped>\n    .dataframe tbody tr th:only-of-type {\n        vertical-align: middle;\n    }\n\n    .dataframe tbody tr th {\n        vertical-align: top;\n    }\n\n    .dataframe thead th {\n        text-align: right;\n    }\n</style>\n<table border=\"1\" class=\"dataframe\">\n  <thead>\n    <tr style=\"text-align: right;\">\n      <th></th>\n      <th>brand</th>\n      <th>model</th>\n      <th>year</th>\n      <th>price</th>\n      <th>city</th>\n      <th>generation</th>\n      <th>body_type</th>\n      <th>engine_volume</th>\n      <th>transmission</th>\n      <th>drive</th>\n      <th>steering_wheel</th>\n      <th>custom_cleared</th>\n      <th>mileage</th>\n      <th>color</th>\n      <th>VIN</th>\n      <th>Наличие</th>\n      <th>Двигатель</th>\n    </tr>\n  </thead>\n  <tbody>\n    <tr>\n      <th>0</th>\n      <td>Mercedes-Benz</td>\n      <td>E 230</td>\n      <td>1991</td>\n      <td>1500000</td>\n      <td>Алматы</td>\n      <td>1987 - 1993 W124 рестайлинг</td>\n      <td>седан</td>\n      <td>2.3 (бензин)</td>\n      <td>автомат</td>\n      <td>задний привод</td>\n      <td>слева</td>\n      <td>True</td>\n      <td>NaN</td>\n      <td>NaN</td>\n      <td>NaN</td>\n      <td>NaN</td>\n      <td>NaN</td>\n    </tr>\n    <tr>\n      <th>1</th>\n      <td>Volkswagen</td>\n      <td>Passat</td>\n      <td>1992</td>\n      <td>1800000</td>\n      <td>Шымкент</td>\n      <td>1988 - 1993 B3</td>\n      <td>универсал</td>\n      <td>1.8 (бензин)</td>\n      <td>механика</td>\n      <td>передний привод</td>\n      <td>слева</td>\n      <td>True</td>\n      <td>245 555 км</td>\n      <td>серый металлик</td>\n      <td>11122233*44****66</td>\n      <td>NaN</td>\n      <td>NaN</td>\n    </tr>\n    <tr>\n      <th>2</th>\n      <td>ВАЗ (Lada)</td>\n      <td>Priora 2170 (седан)</td>\n      <td>2010</td>\n      <td>2800000</td>\n      <td>Костанай</td>\n      <td>2007 - 2015 1 поколение</td>\n      <td>седан</td>\n      <td>1.6 (бензин)</td>\n      <td>механика</td>\n      <td>передний привод</td>\n      <td>слева</td>\n      <td>True</td>\n      <td>189 000 км</td>\n      <td>зеленый металлик</td>\n      <td>NaN</td>\n      <td>NaN</td>\n      <td>NaN</td>\n    </tr>\n    <tr>\n      <th>3</th>\n      <td>Subaru</td>\n      <td>Forester</td>\n      <td>1998</td>\n      <td>3400000</td>\n      <td>Алматы</td>\n      <td>1997 - 2000 1 поколение (SF)</td>\n      <td>кроссовер</td>\n      <td>2 (бензин)</td>\n      <td>автомат</td>\n      <td>полный привод</td>\n      <td>справа</td>\n      <td>True</td>\n      <td>NaN</td>\n      <td>NaN</td>\n      <td>NaN</td>\n      <td>NaN</td>\n      <td>NaN</td>\n    </tr>\n    <tr>\n      <th>4</th>\n      <td>Hyundai</td>\n      <td>Grandeur</td>\n      <td>2021</td>\n      <td>23000000</td>\n      <td>Шымкент</td>\n      <td>2019 - 2022 6 поколение рестайлинг (IG)</td>\n      <td>седан</td>\n      <td>3.3 (бензин)</td>\n      <td>автомат</td>\n      <td>передний привод</td>\n      <td>слева</td>\n      <td>True</td>\n      <td>3 500 км</td>\n      <td>NaN</td>\n      <td>NaN</td>\n      <td>NaN</td>\n      <td>NaN</td>\n    </tr>\n  </tbody>\n</table>\n</div>"
     },
     "execution_count": 3,
     "metadata": {},
     "output_type": "execute_result"
    }
   ],
   "source": [
    "#download the data from the mongodb database\n",
    "import pymongo\n",
    "import pandas as pd\n",
    "import numpy as np\n",
    "myclient = pymongo.MongoClient(\"mongodb://localhost:27017/\")\n",
    "mydb = myclient[\"endterm\"]\n",
    "mycol = mydb[\"cars\"]\n",
    "mylist = list(mycol.find())\n",
    "df = pd.DataFrame(mylist)\n",
    "df = df.drop(columns=['_id'])\n",
    "#drop all the rows which are duplicates\n",
    "df = df.drop_duplicates()\n",
    "df.head()\n",
    "#print size of the data"
   ],
   "metadata": {
    "collapsed": false,
    "pycharm": {
     "name": "#%%\n"
    }
   }
  },
  {
   "cell_type": "code",
   "execution_count": 4,
   "outputs": [
    {
     "data": {
      "text/plain": "           brand                model  year     price      city  \\\n0  Mercedes-Benz                E 230  1991   1500000    Алматы   \n1     Volkswagen               Passat  1992   1800000   Шымкент   \n2     ВАЗ (Lada)  Priora 2170 (седан)  2010   2800000  Костанай   \n3         Subaru             Forester  1998   3400000    Алматы   \n4        Hyundai             Grandeur  2021  23000000   Шымкент   \n\n                                generation  body_type engine_volume  \\\n0              1987 - 1993 W124 рестайлинг      седан  2.3 (бензин)   \n1                           1988 - 1993 B3  универсал  1.8 (бензин)   \n2                  2007 - 2015 1 поколение      седан  1.6 (бензин)   \n3             1997 - 2000 1 поколение (SF)  кроссовер    2 (бензин)   \n4  2019 - 2022 6 поколение рестайлинг (IG)      седан  3.3 (бензин)   \n\n  transmission            drive steering_wheel  custom_cleared     mileage  \\\n0      автомат    задний привод          слева            True      320000   \n1     механика  передний привод          слева            True  245 555 км   \n2     механика  передний привод          слева            True  189 000 км   \n3      автомат    полный привод         справа            True      250000   \n4      автомат  передний привод          слева            True    3 500 км   \n\n              color                VIN  Наличие Двигатель  \n0         не указан          не указан     True       NaN  \n1    серый металлик  11122233*44****66     True       NaN  \n2  зеленый металлик          не указан     True       NaN  \n3         не указан          не указан     True       NaN  \n4         не указан          не указан     True       NaN  ",
      "text/html": "<div>\n<style scoped>\n    .dataframe tbody tr th:only-of-type {\n        vertical-align: middle;\n    }\n\n    .dataframe tbody tr th {\n        vertical-align: top;\n    }\n\n    .dataframe thead th {\n        text-align: right;\n    }\n</style>\n<table border=\"1\" class=\"dataframe\">\n  <thead>\n    <tr style=\"text-align: right;\">\n      <th></th>\n      <th>brand</th>\n      <th>model</th>\n      <th>year</th>\n      <th>price</th>\n      <th>city</th>\n      <th>generation</th>\n      <th>body_type</th>\n      <th>engine_volume</th>\n      <th>transmission</th>\n      <th>drive</th>\n      <th>steering_wheel</th>\n      <th>custom_cleared</th>\n      <th>mileage</th>\n      <th>color</th>\n      <th>VIN</th>\n      <th>Наличие</th>\n      <th>Двигатель</th>\n    </tr>\n  </thead>\n  <tbody>\n    <tr>\n      <th>0</th>\n      <td>Mercedes-Benz</td>\n      <td>E 230</td>\n      <td>1991</td>\n      <td>1500000</td>\n      <td>Алматы</td>\n      <td>1987 - 1993 W124 рестайлинг</td>\n      <td>седан</td>\n      <td>2.3 (бензин)</td>\n      <td>автомат</td>\n      <td>задний привод</td>\n      <td>слева</td>\n      <td>True</td>\n      <td>320000</td>\n      <td>не указан</td>\n      <td>не указан</td>\n      <td>True</td>\n      <td>NaN</td>\n    </tr>\n    <tr>\n      <th>1</th>\n      <td>Volkswagen</td>\n      <td>Passat</td>\n      <td>1992</td>\n      <td>1800000</td>\n      <td>Шымкент</td>\n      <td>1988 - 1993 B3</td>\n      <td>универсал</td>\n      <td>1.8 (бензин)</td>\n      <td>механика</td>\n      <td>передний привод</td>\n      <td>слева</td>\n      <td>True</td>\n      <td>245 555 км</td>\n      <td>серый металлик</td>\n      <td>11122233*44****66</td>\n      <td>True</td>\n      <td>NaN</td>\n    </tr>\n    <tr>\n      <th>2</th>\n      <td>ВАЗ (Lada)</td>\n      <td>Priora 2170 (седан)</td>\n      <td>2010</td>\n      <td>2800000</td>\n      <td>Костанай</td>\n      <td>2007 - 2015 1 поколение</td>\n      <td>седан</td>\n      <td>1.6 (бензин)</td>\n      <td>механика</td>\n      <td>передний привод</td>\n      <td>слева</td>\n      <td>True</td>\n      <td>189 000 км</td>\n      <td>зеленый металлик</td>\n      <td>не указан</td>\n      <td>True</td>\n      <td>NaN</td>\n    </tr>\n    <tr>\n      <th>3</th>\n      <td>Subaru</td>\n      <td>Forester</td>\n      <td>1998</td>\n      <td>3400000</td>\n      <td>Алматы</td>\n      <td>1997 - 2000 1 поколение (SF)</td>\n      <td>кроссовер</td>\n      <td>2 (бензин)</td>\n      <td>автомат</td>\n      <td>полный привод</td>\n      <td>справа</td>\n      <td>True</td>\n      <td>250000</td>\n      <td>не указан</td>\n      <td>не указан</td>\n      <td>True</td>\n      <td>NaN</td>\n    </tr>\n    <tr>\n      <th>4</th>\n      <td>Hyundai</td>\n      <td>Grandeur</td>\n      <td>2021</td>\n      <td>23000000</td>\n      <td>Шымкент</td>\n      <td>2019 - 2022 6 поколение рестайлинг (IG)</td>\n      <td>седан</td>\n      <td>3.3 (бензин)</td>\n      <td>автомат</td>\n      <td>передний привод</td>\n      <td>слева</td>\n      <td>True</td>\n      <td>3 500 км</td>\n      <td>не указан</td>\n      <td>не указан</td>\n      <td>True</td>\n      <td>NaN</td>\n    </tr>\n  </tbody>\n</table>\n</div>"
     },
     "execution_count": 4,
     "metadata": {},
     "output_type": "execute_result"
    }
   ],
   "source": [
    "#I want to bayesian neural network to predict the value of the cars, so I have a lot of data which is categorial and numerical\n",
    "#if mileage is nan I want to replace it with the 10000*(2023-year)\n",
    "df['mileage'] = df['mileage'].fillna(10000*(2023-df['year']))\n",
    "#if color is nan I want to replace it with the \"не указан\"\n",
    "df['color'] = df['color'].fillna(\"не указан\")\n",
    "#if VIN is nan I want to replace it with the \"не указан\"\n",
    "df['VIN'] = df['VIN'].fillna(\"не указан\")\n",
    "#if 'Наличие' is nan I want to replace it with the True, else False\n",
    "df['Наличие'] = df['Наличие'].fillna(True)\n",
    "df['Наличие'] = df['Наличие'].replace('На заказ', False)\n",
    "df.head()"
   ],
   "metadata": {
    "collapsed": false,
    "pycharm": {
     "name": "#%%\n"
    }
   }
  },
  {
   "cell_type": "code",
   "execution_count": 7,
   "outputs": [
    {
     "ename": "KeyError",
     "evalue": "300",
     "output_type": "error",
     "traceback": [
      "\u001B[1;31m---------------------------------------------------------------------------\u001B[0m",
      "\u001B[1;31mKeyError\u001B[0m                                  Traceback (most recent call last)",
      "File \u001B[1;32m~\\Desktop\\dir_for_DSML\\venv\\lib\\site-packages\\pandas\\core\\indexes\\base.py:3802\u001B[0m, in \u001B[0;36mIndex.get_loc\u001B[1;34m(self, key, method, tolerance)\u001B[0m\n\u001B[0;32m   3801\u001B[0m \u001B[38;5;28;01mtry\u001B[39;00m:\n\u001B[1;32m-> 3802\u001B[0m     \u001B[38;5;28;01mreturn\u001B[39;00m \u001B[38;5;28;43mself\u001B[39;49m\u001B[38;5;241;43m.\u001B[39;49m\u001B[43m_engine\u001B[49m\u001B[38;5;241;43m.\u001B[39;49m\u001B[43mget_loc\u001B[49m\u001B[43m(\u001B[49m\u001B[43mcasted_key\u001B[49m\u001B[43m)\u001B[49m\n\u001B[0;32m   3803\u001B[0m \u001B[38;5;28;01mexcept\u001B[39;00m \u001B[38;5;167;01mKeyError\u001B[39;00m \u001B[38;5;28;01mas\u001B[39;00m err:\n",
      "File \u001B[1;32m~\\Desktop\\dir_for_DSML\\venv\\lib\\site-packages\\pandas\\_libs\\index.pyx:138\u001B[0m, in \u001B[0;36mpandas._libs.index.IndexEngine.get_loc\u001B[1;34m()\u001B[0m\n",
      "File \u001B[1;32m~\\Desktop\\dir_for_DSML\\venv\\lib\\site-packages\\pandas\\_libs\\index.pyx:165\u001B[0m, in \u001B[0;36mpandas._libs.index.IndexEngine.get_loc\u001B[1;34m()\u001B[0m\n",
      "File \u001B[1;32mpandas\\_libs\\hashtable_class_helper.pxi:2263\u001B[0m, in \u001B[0;36mpandas._libs.hashtable.Int64HashTable.get_item\u001B[1;34m()\u001B[0m\n",
      "File \u001B[1;32mpandas\\_libs\\hashtable_class_helper.pxi:2273\u001B[0m, in \u001B[0;36mpandas._libs.hashtable.Int64HashTable.get_item\u001B[1;34m()\u001B[0m\n",
      "\u001B[1;31mKeyError\u001B[0m: 300",
      "\nThe above exception was the direct cause of the following exception:\n",
      "\u001B[1;31mKeyError\u001B[0m                                  Traceback (most recent call last)",
      "Cell \u001B[1;32mIn[7], line 4\u001B[0m\n\u001B[0;32m      2\u001B[0m isPetrol \u001B[38;5;241m=\u001B[39m []\n\u001B[0;32m      3\u001B[0m \u001B[38;5;28;01mfor\u001B[39;00m i \u001B[38;5;129;01min\u001B[39;00m \u001B[38;5;28mrange\u001B[39m(\u001B[38;5;28mlen\u001B[39m(df)):\n\u001B[1;32m----> 4\u001B[0m     \u001B[38;5;28;01mif\u001B[39;00m \u001B[43mdf\u001B[49m\u001B[38;5;241;43m.\u001B[39;49m\u001B[43mengine_volume\u001B[49m\u001B[43m[\u001B[49m\u001B[43mi\u001B[49m\u001B[43m]\u001B[49m \u001B[38;5;241m==\u001B[39m \u001B[38;5;124m'\u001B[39m\u001B[38;5;124mгаз-бензин\u001B[39m\u001B[38;5;124m'\u001B[39m:\n\u001B[0;32m      5\u001B[0m         isPetrol\u001B[38;5;241m.\u001B[39mappend(\u001B[38;5;28;01mFalse\u001B[39;00m)\n\u001B[0;32m      6\u001B[0m     \u001B[38;5;28;01melse\u001B[39;00m:\n",
      "File \u001B[1;32m~\\Desktop\\dir_for_DSML\\venv\\lib\\site-packages\\pandas\\core\\series.py:981\u001B[0m, in \u001B[0;36mSeries.__getitem__\u001B[1;34m(self, key)\u001B[0m\n\u001B[0;32m    978\u001B[0m     \u001B[38;5;28;01mreturn\u001B[39;00m \u001B[38;5;28mself\u001B[39m\u001B[38;5;241m.\u001B[39m_values[key]\n\u001B[0;32m    980\u001B[0m \u001B[38;5;28;01melif\u001B[39;00m key_is_scalar:\n\u001B[1;32m--> 981\u001B[0m     \u001B[38;5;28;01mreturn\u001B[39;00m \u001B[38;5;28;43mself\u001B[39;49m\u001B[38;5;241;43m.\u001B[39;49m\u001B[43m_get_value\u001B[49m\u001B[43m(\u001B[49m\u001B[43mkey\u001B[49m\u001B[43m)\u001B[49m\n\u001B[0;32m    983\u001B[0m \u001B[38;5;28;01mif\u001B[39;00m is_hashable(key):\n\u001B[0;32m    984\u001B[0m     \u001B[38;5;66;03m# Otherwise index.get_value will raise InvalidIndexError\u001B[39;00m\n\u001B[0;32m    985\u001B[0m     \u001B[38;5;28;01mtry\u001B[39;00m:\n\u001B[0;32m    986\u001B[0m         \u001B[38;5;66;03m# For labels that don't resolve as scalars like tuples and frozensets\u001B[39;00m\n",
      "File \u001B[1;32m~\\Desktop\\dir_for_DSML\\venv\\lib\\site-packages\\pandas\\core\\series.py:1089\u001B[0m, in \u001B[0;36mSeries._get_value\u001B[1;34m(self, label, takeable)\u001B[0m\n\u001B[0;32m   1086\u001B[0m     \u001B[38;5;28;01mreturn\u001B[39;00m \u001B[38;5;28mself\u001B[39m\u001B[38;5;241m.\u001B[39m_values[label]\n\u001B[0;32m   1088\u001B[0m \u001B[38;5;66;03m# Similar to Index.get_value, but we do not fall back to positional\u001B[39;00m\n\u001B[1;32m-> 1089\u001B[0m loc \u001B[38;5;241m=\u001B[39m \u001B[38;5;28;43mself\u001B[39;49m\u001B[38;5;241;43m.\u001B[39;49m\u001B[43mindex\u001B[49m\u001B[38;5;241;43m.\u001B[39;49m\u001B[43mget_loc\u001B[49m\u001B[43m(\u001B[49m\u001B[43mlabel\u001B[49m\u001B[43m)\u001B[49m\n\u001B[0;32m   1090\u001B[0m \u001B[38;5;28;01mreturn\u001B[39;00m \u001B[38;5;28mself\u001B[39m\u001B[38;5;241m.\u001B[39mindex\u001B[38;5;241m.\u001B[39m_get_values_for_loc(\u001B[38;5;28mself\u001B[39m, loc, label)\n",
      "File \u001B[1;32m~\\Desktop\\dir_for_DSML\\venv\\lib\\site-packages\\pandas\\core\\indexes\\base.py:3804\u001B[0m, in \u001B[0;36mIndex.get_loc\u001B[1;34m(self, key, method, tolerance)\u001B[0m\n\u001B[0;32m   3802\u001B[0m     \u001B[38;5;28;01mreturn\u001B[39;00m \u001B[38;5;28mself\u001B[39m\u001B[38;5;241m.\u001B[39m_engine\u001B[38;5;241m.\u001B[39mget_loc(casted_key)\n\u001B[0;32m   3803\u001B[0m \u001B[38;5;28;01mexcept\u001B[39;00m \u001B[38;5;167;01mKeyError\u001B[39;00m \u001B[38;5;28;01mas\u001B[39;00m err:\n\u001B[1;32m-> 3804\u001B[0m     \u001B[38;5;28;01mraise\u001B[39;00m \u001B[38;5;167;01mKeyError\u001B[39;00m(key) \u001B[38;5;28;01mfrom\u001B[39;00m \u001B[38;5;21;01merr\u001B[39;00m\n\u001B[0;32m   3805\u001B[0m \u001B[38;5;28;01mexcept\u001B[39;00m \u001B[38;5;167;01mTypeError\u001B[39;00m:\n\u001B[0;32m   3806\u001B[0m     \u001B[38;5;66;03m# If we have a listlike key, _check_indexing_error will raise\u001B[39;00m\n\u001B[0;32m   3807\u001B[0m     \u001B[38;5;66;03m#  InvalidIndexError. Otherwise we fall through and re-raise\u001B[39;00m\n\u001B[0;32m   3808\u001B[0m     \u001B[38;5;66;03m#  the TypeError.\u001B[39;00m\n\u001B[0;32m   3809\u001B[0m     \u001B[38;5;28mself\u001B[39m\u001B[38;5;241m.\u001B[39m_check_indexing_error(key)\n",
      "\u001B[1;31mKeyError\u001B[0m: 300"
     ]
    }
   ],
   "source": [
    "#if engine_volume has \"газ-бензин\" make isPetrol=False, else isPetrol=True\n",
    "isPetrol = []\n",
    "for i in range(len(df)):\n",
    "    if df.engine_volume[i] == 'газ-бензин':\n",
    "        isPetrol.append(False)\n",
    "    else:\n",
    "        isPetrol.append(True)\n",
    "df['isPetrol'] = isPetrol\n",
    "#delete all signs in engine_volume except numbers\n",
    "import re\n",
    "engine_volume = []\n",
    "for i in range(len(df)):\n",
    "    a = df.engine_volume[i]\n",
    "    engine_volume.append(re.sub('[^\\d\\.]', '', a))\n",
    "\n",
    "df['engine_volume'] = engine_volume"
   ],
   "metadata": {
    "collapsed": false,
    "pycharm": {
     "name": "#%%\n"
    }
   }
  },
  {
   "cell_type": "code",
   "execution_count": null,
   "outputs": [],
   "source": [
    "mileage = []\n",
    "for i in range(len(df)):\n",
    "    a = str(df.mileage[i])\n",
    "    mileage.append(re.sub('[^\\d\\.]', '', a))\n",
    "\n",
    "mileage= [int(i) for i in mileage]\n",
    "df['mileage'] = mileage\n",
    "df.head()"
   ],
   "metadata": {
    "collapsed": false,
    "pycharm": {
     "name": "#%%\n"
    }
   }
  },
  {
   "cell_type": "code",
   "execution_count": null,
   "outputs": [],
   "source": [
    "df=df.drop(columns=['VIN'])\n",
    "df[\"engine_volume\"] = df[\"engine_volume\"].astype(float)\n",
    "df.head()\n",
    "cat_cols = ['brand', 'model', 'city', 'generation', 'body_type', 'transmission', 'drive',\n",
    "            'steering_wheel', 'color']"
   ],
   "metadata": {
    "collapsed": false,
    "pycharm": {
     "name": "#%%\n"
    }
   }
  },
  {
   "cell_type": "code",
   "execution_count": null,
   "outputs": [],
   "source": [
    "#split the data to train and test\n",
    "from sklearn.model_selection import train_test_split\n",
    "X = df.drop(columns=['price'])\n",
    "y = df['price']\n",
    "#one hot encoding for categorical data\n",
    "X = pd.get_dummies(X, columns=cat_cols)\n",
    "X_train, X_test, y_train, y_test = train_test_split(X, y, test_size=0.2, random_state=42)\n"
   ],
   "metadata": {
    "collapsed": false,
    "pycharm": {
     "name": "#%%\n"
    }
   }
  },
  {
   "cell_type": "code",
   "execution_count": null,
   "outputs": [],
   "source": [
    "#make random forest model and train it using tensorflow\n",
    "from sklearn.ensemble import RandomForestRegressor\n",
    "from sklearn.metrics import r2_score\n",
    "model = RandomForestRegressor(n_estimators=100, random_state=42)\n",
    "model.fit(X_train, y_train)\n",
    "\n",
    "# Make predictions on the test data\n",
    "y_pred = model.predict(X_test)\n",
    "\n",
    "# Evaluate the model using R-squared\n",
    "r2 = r2_score(y_test, y_pred)\n",
    "print('R-squared:', r2)"
   ],
   "metadata": {
    "collapsed": false,
    "pycharm": {
     "name": "#%%\n"
    }
   }
  },
  {
   "cell_type": "code",
   "execution_count": null,
   "outputs": [],
   "source": [
    "#output the mean error of the model in the test data\n",
    "from sklearn.metrics import mean_absolute_error\n",
    "print(mean_absolute_error(y_test, y_pred))\n"
   ],
   "metadata": {
    "collapsed": false,
    "pycharm": {
     "name": "#%%\n"
    }
   }
  },
  {
   "cell_type": "code",
   "execution_count": null,
   "outputs": [],
   "source": [
    "#find the biggest error in the test data and output it with the index\n",
    "max_error = 0\n",
    "index = 0\n",
    "for i in range(len(y_test)):\n",
    "    if abs(y_test.iloc[i]-y_pred[i]) > max_error:\n",
    "        max_error = abs(y_test.iloc[i]-y_pred[i])\n",
    "        index = i\n",
    "print(max_error, index)"
   ],
   "metadata": {
    "collapsed": false,
    "pycharm": {
     "name": "#%%\n"
    }
   }
  },
  {
   "cell_type": "code",
   "execution_count": null,
   "outputs": [],
   "source": [
    "print(y_test.iloc[20])"
   ],
   "metadata": {
    "collapsed": false,
    "pycharm": {
     "name": "#%%\n"
    }
   }
  },
  {
   "cell_type": "code",
   "execution_count": null,
   "outputs": [],
   "source": [
    "print(y_pred[20])"
   ],
   "metadata": {
    "collapsed": false,
    "pycharm": {
     "name": "#%%\n"
    }
   }
  },
  {
   "cell_type": "code",
   "execution_count": null,
   "outputs": [],
   "source": [
    "print(y_test.iloc[20]-y_pred[20])"
   ],
   "metadata": {
    "collapsed": false,
    "pycharm": {
     "name": "#%%\n"
    }
   }
  },
  {
   "cell_type": "code",
   "execution_count": null,
   "outputs": [],
   "source": [
    "print(X_test.iloc[20])"
   ],
   "metadata": {
    "collapsed": false,
    "pycharm": {
     "name": "#%%\n"
    }
   }
  },
  {
   "cell_type": "code",
   "execution_count": null,
   "outputs": [],
   "source": [
    "#that's the biggest mistake model don't know anything about Cadillac Escalade, but if we fit some info about it, it will be better"
   ],
   "metadata": {
    "collapsed": false,
    "pycharm": {
     "name": "#%%\n"
    }
   }
  },
  {
   "cell_type": "code",
   "execution_count": null,
   "outputs": [],
   "source": [
    "#example\n",
    "#here we input df with  17 extra Cadillac Escalade(before we had zero), after that we will fit this values and check the error\n",
    "#make custom df\n",
    "#in cars.csv we have json like objects, so we need to convert it to the dictionary {'brand': 'Cadillac', 'model':\n",
    "\n",
    "#upload all the documents from mongo, where brand is Cadillac and model is Escalade\n",
    "mylist = list(mycol.find({'brand': 'Cadillac', 'model': 'Escalade'}))\n",
    "df = pd.DataFrame(mylist)\n",
    "df = df.drop(columns=['_id'])\n",
    "df.head()\n",
    "\n"
   ],
   "metadata": {
    "collapsed": false,
    "pycharm": {
     "name": "#%%\n"
    }
   }
  },
  {
   "cell_type": "code",
   "execution_count": null,
   "outputs": [],
   "source": [
    "#if mileage is nan I want to replace it with the 10000*(2023-year)\n",
    "df['mileage'] = df['mileage'].fillna(10000*(2023-df['year']))\n",
    "#if color is nan I want to replace it with the \"не указан\"\n",
    "df['color'] = df['color'].fillna(\"не указан\")\n",
    "\n",
    "#if engine_volume has \"газ-бензин\" make isPetrol=False, else isPetrol=True\n",
    "isPetrol = []\n",
    "for i in range(len(df)):\n",
    "    if df.engine_volume[i] == 'газ-бензин':\n",
    "        isPetrol.append(False)\n",
    "    else:\n",
    "        isPetrol.append(True)\n",
    "df['isPetrol'] = isPetrol\n",
    "#delete all signs in engine_volume except numbers\n",
    "import re\n",
    "engine_volume = []\n",
    "for i in range(len(df)):\n",
    "    a = df.engine_volume[i]\n",
    "    engine_volume.append(re.sub('[^\\d\\.]', '', a))\n",
    "\n",
    "df['engine_volume'] = engine_volume\n",
    "mileage = []\n",
    "for i in range(len(df)):\n",
    "    a = str(df.mileage[i])\n",
    "    mileage.append(re.sub('[^\\d\\.]', '', a))\n",
    "\n",
    "mileage= [int(i) for i in mileage]\n",
    "df['mileage'] = mileage\n",
    "df[\"engine_volume\"] = df[\"engine_volume\"].astype(float)\n",
    "df['Наличие'] = df['Наличие'].fillna(True)\n",
    "df['Наличие'] = df['Наличие'].replace('На заказ', False)\n",
    "df.head()"
   ],
   "metadata": {
    "collapsed": false,
    "pycharm": {
     "name": "#%%\n"
    }
   }
  },
  {
   "cell_type": "code",
   "execution_count": null,
   "outputs": [],
   "source": [
    "df=df.drop(columns=['VIN'])"
   ],
   "metadata": {
    "collapsed": false,
    "pycharm": {
     "name": "#%%\n"
    }
   }
  },
  {
   "cell_type": "code",
   "execution_count": null,
   "outputs": [],
   "source": [
    "X_new = df.drop(columns=['price'])\n",
    "X_new = pd.get_dummies(X_new, columns=cat_cols)\n",
    "#\n",
    "y_new = df['price']\n",
    "#resize the data to fit the model that columns are the same\n",
    "X_new = X_new.reindex(columns = X_train.columns, fill_value=0)\n",
    "model.fit(X_new, y_new)\n"
   ],
   "metadata": {
    "collapsed": false,
    "pycharm": {
     "name": "#%%\n"
    }
   }
  },
  {
   "cell_type": "code",
   "execution_count": null,
   "outputs": [],
   "source": [
    "y_pred = model.predict(X_test)"
   ],
   "metadata": {
    "collapsed": false,
    "pycharm": {
     "name": "#%%\n"
    }
   }
  },
  {
   "cell_type": "code",
   "execution_count": null,
   "outputs": [],
   "source": [
    "print(y_pred[20])"
   ],
   "metadata": {
    "collapsed": false,
    "pycharm": {
     "name": "#%%\n"
    }
   }
  },
  {
   "cell_type": "code",
   "execution_count": null,
   "outputs": [],
   "source": [
    "print(y_test.iloc[20])"
   ],
   "metadata": {
    "collapsed": false,
    "pycharm": {
     "name": "#%%\n"
    }
   }
  },
  {
   "cell_type": "code",
   "execution_count": null,
   "outputs": [],
   "source": [
    "print(y_test.iloc[20]-y_pred[20])"
   ],
   "metadata": {
    "collapsed": false,
    "pycharm": {
     "name": "#%%\n"
    }
   }
  },
  {
   "cell_type": "code",
   "execution_count": null,
   "outputs": [],
   "source": [
    "#save the model to the file\n",
    "import pickle\n",
    "pickle.dump(model, open('model.pkl','wb'))"
   ],
   "metadata": {
    "collapsed": false,
    "pycharm": {
     "name": "#%%\n"
    }
   }
  },
  {
   "cell_type": "code",
   "execution_count": null,
   "outputs": [],
   "source": [
    "#make plot of mean price by year\n",
    "import matplotlib.pyplot as plt\n",
    "import seaborn as sns\n",
    "sns.set()\n",
    "plt.figure(figsize=(10, 5))\n",
    "sns.barplot(x=df['year'], y=df['price'])\n",
    "plt.title('Средняя цена автомобиля по годам')\n",
    "plt.xlabel('Год выпуска')\n",
    "plt.ylabel('Средняя цена')\n",
    "plt.show()"
   ],
   "metadata": {
    "collapsed": false,
    "pycharm": {
     "name": "#%%\n"
    }
   }
  },
  {
   "cell_type": "code",
   "execution_count": null,
   "outputs": [],
   "source": [],
   "metadata": {
    "collapsed": false,
    "pycharm": {
     "name": "#%%\n"
    }
   }
  },
  {
   "cell_type": "code",
   "execution_count": null,
   "outputs": [],
   "source": [],
   "metadata": {
    "collapsed": false,
    "pycharm": {
     "name": "#%%\n"
    }
   }
  },
  {
   "cell_type": "markdown",
   "source": [
    "WE can that just by adding around 20 cars to the model we can reduce the error by a lot"
   ],
   "metadata": {
    "collapsed": false,
    "pycharm": {
     "name": "#%% md\n"
    }
   }
  }
 ],
 "metadata": {
  "kernelspec": {
   "display_name": "Python 3",
   "language": "python",
   "name": "python3"
  },
  "language_info": {
   "codemirror_mode": {
    "name": "ipython",
    "version": 2
   },
   "file_extension": ".py",
   "mimetype": "text/x-python",
   "name": "python",
   "nbconvert_exporter": "python",
   "pygments_lexer": "ipython2",
   "version": "2.7.6"
  }
 },
 "nbformat": 4,
 "nbformat_minor": 0
}